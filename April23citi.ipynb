{
 "cells": [
  {
   "cell_type": "code",
   "execution_count": 1,
   "id": "4dc5db64-64a2-40b4-967f-166e24eb2009",
   "metadata": {},
   "outputs": [],
   "source": [
    "import pandas as pd\n",
    "import glob"
   ]
  },
  {
   "cell_type": "code",
   "execution_count": 2,
   "id": "0a13f8d1-f680-43a7-84cd-2ac490f1efb0",
   "metadata": {},
   "outputs": [],
   "source": [
    "csv_files = glob.glob('*.csv')"
   ]
  },
  {
   "cell_type": "code",
   "execution_count": 3,
   "id": "b4008d3f-bd40-486c-91b6-eea0deae9fd0",
   "metadata": {},
   "outputs": [],
   "source": [
    "dfs = []"
   ]
  },
  {
   "cell_type": "code",
   "execution_count": 4,
   "id": "a8baa31b-2cf1-4379-9a62-3d05d822f6f0",
   "metadata": {},
   "outputs": [
    {
     "name": "stderr",
     "output_type": "stream",
     "text": [
      "C:\\Users\\secar\\AppData\\Local\\Temp\\ipykernel_17964\\1514404078.py:4: DtypeWarning: Columns (5,7) have mixed types. Specify dtype option on import or set low_memory=False.\n",
      "  df = pd.read_csv(csv_file)\n",
      "C:\\Users\\secar\\AppData\\Local\\Temp\\ipykernel_17964\\1514404078.py:4: DtypeWarning: Columns (5,7) have mixed types. Specify dtype option on import or set low_memory=False.\n",
      "  df = pd.read_csv(csv_file)\n",
      "C:\\Users\\secar\\AppData\\Local\\Temp\\ipykernel_17964\\1514404078.py:4: DtypeWarning: Columns (5,7) have mixed types. Specify dtype option on import or set low_memory=False.\n",
      "  df = pd.read_csv(csv_file)\n",
      "C:\\Users\\secar\\AppData\\Local\\Temp\\ipykernel_17964\\1514404078.py:4: DtypeWarning: Columns (5,7) have mixed types. Specify dtype option on import or set low_memory=False.\n",
      "  df = pd.read_csv(csv_file)\n"
     ]
    }
   ],
   "source": [
    "# Iterate through each CSV file\n",
    "for csv_file in csv_files:\n",
    "    # Read CSV file into a DataFrame\n",
    "    df = pd.read_csv(csv_file)\n",
    "    # Append DataFrame to list\n",
    "    dfs.append(df)"
   ]
  },
  {
   "cell_type": "code",
   "execution_count": 5,
   "id": "e71f403e-acc1-4306-9794-885518a30506",
   "metadata": {},
   "outputs": [],
   "source": [
    "# Merge all DataFrames in the list\n",
    "merged_df = pd.concat(dfs, ignore_index=True)"
   ]
  },
  {
   "cell_type": "code",
   "execution_count": 6,
   "id": "50445916-f4e1-45d4-ab9e-63417a2c17e0",
   "metadata": {},
   "outputs": [],
   "source": [
    "# Splitting 'Started At' column\n",
    "\n",
    "merged_df[['started_date', 'started_time']] = merged_df['started_at'].str.split(' ', n=1, expand=True)\n",
    "\n",
    "# Splitting 'Ended At' column\n",
    "\n",
    "merged_df[['ended_date', 'ended_time']] = merged_df['ended_at'].str.split(' ', n=1, expand=True)"
   ]
  },
  {
   "cell_type": "code",
   "execution_count": 7,
   "id": "05567453-f5d7-4738-b643-20e75c2fa342",
   "metadata": {},
   "outputs": [],
   "source": [
    "import numpy as np\n",
    "\n",
    "merged_df['start_lat'] = round(merged_df['start_lat'], 3)\n",
    "#np.ceil(merged_df['start_lat']*10)/10\n",
    "merged_df['start_lng'] = round(merged_df['start_lng'], 3)\n",
    "#np.ceil(merged_df['start_lng']*10)/10\n",
    "merged_df['end_lat'] = round(merged_df['end_lat'], 3)\n",
    "merged_df['end_lng'] = round(merged_df['end_lng'], 3)"
   ]
  },
  {
   "cell_type": "code",
   "execution_count": 8,
   "id": "f9be3183-3570-454c-a287-765547e2a61f",
   "metadata": {},
   "outputs": [],
   "source": [
    "# Export merged DataFrame to CSV\n",
    "merged_df.to_csv('April2023citidata.csv', index=False)"
   ]
  },
  {
   "cell_type": "code",
   "execution_count": null,
   "id": "af7a1425-22df-4438-971e-990e425afa71",
   "metadata": {},
   "outputs": [],
   "source": []
  }
 ],
 "metadata": {
  "kernelspec": {
   "display_name": "Python 3 (ipykernel)",
   "language": "python",
   "name": "python3"
  },
  "language_info": {
   "codemirror_mode": {
    "name": "ipython",
    "version": 3
   },
   "file_extension": ".py",
   "mimetype": "text/x-python",
   "name": "python",
   "nbconvert_exporter": "python",
   "pygments_lexer": "ipython3",
   "version": "3.11.5"
  }
 },
 "nbformat": 4,
 "nbformat_minor": 5
}
